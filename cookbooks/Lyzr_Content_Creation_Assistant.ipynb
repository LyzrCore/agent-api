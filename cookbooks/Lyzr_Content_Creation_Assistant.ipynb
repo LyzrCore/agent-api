{
  "nbformat": 4,
  "nbformat_minor": 0,
  "metadata": {
    "colab": {
      "provenance": []
    },
    "kernelspec": {
      "name": "python3",
      "display_name": "Python 3"
    },
    "language_info": {
      "name": "python"
    }
  },
  "cells": [
    {
      "cell_type": "markdown",
      "source": [
        "## Lyzr Content Creation Assistant: Cookbook Recipe with Documentation\n",
        "\n",
        "This notebook provides a detailed guide and fully documented code examples to build a Content Creation Assistant using the Lyzr Agent API.\n",
        "\n",
        "**1.  Installation of Lyzr Agent API**\n",
        "\n",
        "First install the lyzr-agent-api with the help of pip command.\n"
      ],
      "metadata": {
        "id": "WlNBN62Iw-xv"
      }
    },
    {
      "cell_type": "code",
      "source": [
        "!pip install lyzr-agent-api"
      ],
      "metadata": {
        "colab": {
          "base_uri": "https://localhost:8080/"
        },
        "collapsed": true,
        "id": "JbXjEa3_xAEP",
        "outputId": "c100dd92-0769-4a20-8626-c78be6ce82c4"
      },
      "execution_count": 1,
      "outputs": [
        {
          "output_type": "stream",
          "name": "stdout",
          "text": [
            "Collecting lyzr-agent-api\n",
            "  Downloading lyzr_agent_api-0.1.0-py3-none-any.whl.metadata (320 bytes)\n",
            "Collecting httpx==0.27.2 (from lyzr-agent-api)\n",
            "  Downloading httpx-0.27.2-py3-none-any.whl.metadata (7.1 kB)\n",
            "Requirement already satisfied: anyio in /usr/local/lib/python3.10/dist-packages (from httpx==0.27.2->lyzr-agent-api) (3.7.1)\n",
            "Requirement already satisfied: certifi in /usr/local/lib/python3.10/dist-packages (from httpx==0.27.2->lyzr-agent-api) (2024.8.30)\n",
            "Collecting httpcore==1.* (from httpx==0.27.2->lyzr-agent-api)\n",
            "  Downloading httpcore-1.0.5-py3-none-any.whl.metadata (20 kB)\n",
            "Requirement already satisfied: idna in /usr/local/lib/python3.10/dist-packages (from httpx==0.27.2->lyzr-agent-api) (3.8)\n",
            "Requirement already satisfied: sniffio in /usr/local/lib/python3.10/dist-packages (from httpx==0.27.2->lyzr-agent-api) (1.3.1)\n",
            "Collecting h11<0.15,>=0.13 (from httpcore==1.*->httpx==0.27.2->lyzr-agent-api)\n",
            "  Downloading h11-0.14.0-py3-none-any.whl.metadata (8.2 kB)\n",
            "Requirement already satisfied: exceptiongroup in /usr/local/lib/python3.10/dist-packages (from anyio->httpx==0.27.2->lyzr-agent-api) (1.2.2)\n",
            "Downloading lyzr_agent_api-0.1.0-py3-none-any.whl (16 kB)\n",
            "Downloading httpx-0.27.2-py3-none-any.whl (76 kB)\n",
            "\u001b[2K   \u001b[90m━━━━━━━━━━━━━━━━━━━━━━━━━━━━━━━━━━━━━━━━\u001b[0m \u001b[32m76.4/76.4 kB\u001b[0m \u001b[31m2.7 MB/s\u001b[0m eta \u001b[36m0:00:00\u001b[0m\n",
            "\u001b[?25hDownloading httpcore-1.0.5-py3-none-any.whl (77 kB)\n",
            "\u001b[2K   \u001b[90m━━━━━━━━━━━━━━━━━━━━━━━━━━━━━━━━━━━━━━━━\u001b[0m \u001b[32m77.9/77.9 kB\u001b[0m \u001b[31m5.7 MB/s\u001b[0m eta \u001b[36m0:00:00\u001b[0m\n",
            "\u001b[?25hDownloading h11-0.14.0-py3-none-any.whl (58 kB)\n",
            "\u001b[2K   \u001b[90m━━━━━━━━━━━━━━━━━━━━━━━━━━━━━━━━━━━━━━━━\u001b[0m \u001b[32m58.3/58.3 kB\u001b[0m \u001b[31m4.0 MB/s\u001b[0m eta \u001b[36m0:00:00\u001b[0m\n",
            "\u001b[?25hInstalling collected packages: h11, httpcore, httpx, lyzr-agent-api\n",
            "Successfully installed h11-0.14.0 httpcore-1.0.5 httpx-0.27.2 lyzr-agent-api-0.1.0\n"
          ]
        }
      ]
    },
    {
      "cell_type": "markdown",
      "source": [
        "**2.  Setup and Initialization**\n",
        "\n",
        "Import the necessary library and initialize your Lyzr API client."
      ],
      "metadata": {
        "id": "6iettEIxyefR"
      }
    },
    {
      "cell_type": "code",
      "execution_count": 2,
      "metadata": {
        "id": "9zNxmoXmw2lz"
      },
      "outputs": [],
      "source": [
        "from lyzr_agent_api import AgentAPI, AgentConfig\n",
        "from lyzr_agent_api import EnvironmentConfig, FeatureConfig\n",
        "from lyzr_agent_api import ChatRequest, OpenAPISchema"
      ]
    },
    {
      "cell_type": "code",
      "source": [
        "# X_API_KEY variable holds the Lyzr api key to authenticate the api requests, basically its a header token.\n",
        "from google.colab import userdata\n",
        "API_Key = userdata.get('X_API_Key')\n",
        "X_API_Key = \"API_Key\""
      ],
      "metadata": {
        "id": "nSspY4vUyA97"
      },
      "execution_count": 3,
      "outputs": []
    },
    {
      "cell_type": "code",
      "source": [
        "# OPENAI_API_KEY variable have our openai api key\n",
        "from google.colab import userdata\n",
        "AI_API_KEY = userdata.get('OPENAI_API_KEY')\n",
        "OPENAI_API_KEY = AI_API_KEY"
      ],
      "metadata": {
        "id": "Rc3jQ8ySyBJD"
      },
      "execution_count": 4,
      "outputs": []
    },
    {
      "cell_type": "code",
      "source": [
        "# We need to initialize the client for AgentAPI.\n",
        "client = AgentAPI(\n",
        "    base_url=\"https://agent.api.lyzr.app\",\n",
        "    x_api_key=X_API_Key,\n",
        "    timeout=3600\n",
        ")\n",
        "\n",
        "print(\"Client has been initialized successfully\")"
      ],
      "metadata": {
        "colab": {
          "base_uri": "https://localhost:8080/"
        },
        "id": "WksA5Ne9yBTi",
        "outputId": "3ccfda12-ae47-4e6d-fc2a-315bfd2fb5bb"
      },
      "execution_count": 5,
      "outputs": [
        {
          "output_type": "stream",
          "name": "stdout",
          "text": [
            "Client has been initialized successfully\n"
          ]
        }
      ]
    },
    {
      "cell_type": "markdown",
      "source": [
        "**3. Environment Creation**\n",
        "\n",
        "Set up the agent's environment. In this case, enable Tool Calling for integrating content enrichment APIs.\n",
        "\n",
        "The `create_env` function creates a new environment with specified configurations such as features as a module it uses `HUMANIZER`, tools such as `perplexity_search`, and a large language model (LLM) as `gpt-4o-mini`. It takes an environment name and optional API key, makes an API call to set up the environment, and returns the newly created environment's ID."
      ],
      "metadata": {
        "id": "z6HOKaI-yTQB"
      }
    },
    {
      "cell_type": "code",
      "source": [
        "# This function will create the environment based on the given configuration\n",
        "def create_env(env_name, openai_api_key=OPENAI_API_KEY):\n",
        "    env_config = EnvironmentConfig(\n",
        "        name=env_name,\n",
        "        features=[\n",
        "            FeatureConfig(\n",
        "                type=\"HUMANIZER\",\n",
        "                config={},\n",
        "                priority=0,\n",
        "            )\n",
        "        ],\n",
        "        tools=[\"perplexity_search\"],\n",
        "        llm_config={\"provider\": \"openai\",\n",
        "                    \"model\": \"gpt-4o-mini\",\n",
        "                    \"config\": {\n",
        "                        \"temperature\": 0.5,\n",
        "                        \"top_p\": 0.9\n",
        "                    },\n",
        "                    \"env\": {\n",
        "                        \"OPENAI_API_KEY\": openai_api_key\n",
        "                    }},\n",
        "    )\n",
        "\n",
        "    response = client.create_environment_endpoint(json_body=env_config)\n",
        "    if response:\n",
        "      print('Environment has been created successfully')\n",
        "      return response['env_id']\n",
        "\n",
        "print(\"Environment is configured with HUMANIZER Module, tool as perplexity_search and LLM Model as gpt-4o-mini from OpenAI.\")"
      ],
      "metadata": {
        "colab": {
          "base_uri": "https://localhost:8080/"
        },
        "id": "8sR3xq-oyLKR",
        "outputId": "09e9dd87-9a9c-49be-a039-eccdafd92f72"
      },
      "execution_count": 8,
      "outputs": [
        {
          "output_type": "stream",
          "name": "stdout",
          "text": [
            "Environment is configured with HUMANIZER Module, tool as perplexity_search and LLM Model as gpt-4o-mini from OpenAI.\n"
          ]
        }
      ]
    },
    {
      "cell_type": "markdown",
      "source": [
        "**4. Agent Creation**\n",
        "\n",
        "Define the configuration for your Content Creation Agent, outlining its purpose and capabilities in the system prompt.\n",
        "\n",
        "The `create_agent` function creates an agent in a specified environment by taking the environment ID and agent name as inputs. It configures the agent with a system prompt for content creation tasks and an agent description, then makes an API call to create the agent, returning the newly created agent's ID.\n"
      ],
      "metadata": {
        "id": "rDuXIxiYzFpi"
      }
    },
    {
      "cell_type": "code",
      "source": [
        "# This function will help us create agent based on specific environment\n",
        "def create_agent(env_id, agent_name):\n",
        "    agent_config = AgentConfig(\n",
        "        env_id=env_id,\n",
        "        system_prompt=\"\"\" You are an expert content creation agent. You can generate different content formats like articles, social media posts, and code. \"\"\",\n",
        "        name=agent_name,\n",
        "        agent_description='Content Creator Assistant Agent'\n",
        "    )\n",
        "\n",
        "    agent_response = client.create_agent_endpoint(json_body=agent_config)\n",
        "    if agent_response:\n",
        "      print('Agent is configured successfully')\n",
        "      return agent_response['agent_id']\n",
        "\n",
        "print(\"Agent will need an environment id to configured successfully.\")"
      ],
      "metadata": {
        "colab": {
          "base_uri": "https://localhost:8080/"
        },
        "id": "6QdiM1tuzHfF",
        "outputId": "188dbe90-a92a-4501-93d6-20fff38417f6"
      },
      "execution_count": 9,
      "outputs": [
        {
          "output_type": "stream",
          "name": "stdout",
          "text": [
            "Agent will need an environment id to configured successfully.\n"
          ]
        }
      ]
    },
    {
      "cell_type": "markdown",
      "source": [
        "**5. User Interaction and Content Generation**\n",
        "\n",
        "Create a function to handle user requests and generate content. This function will also include the logic for using the registered tools.\n",
        "\n",
        "---\n",
        "\n"
      ],
      "metadata": {
        "id": "m_tRtC6mz6LI"
      }
    },
    {
      "cell_type": "code",
      "source": [
        "def generate_content(user_id, agent_id, user_request, content_format=\"article\"):\n",
        "    \"\"\"Generates content based on user request and format.\n",
        "\n",
        "    Args:\n",
        "        user_request (str): The user's request for content (e.g., \"Write a blog post about AI.\").\n",
        "        content_format (str, optional): The desired format of the content. Defaults to \"article\".\n",
        "\n",
        "    Returns:\n",
        "        str: The generated content.\n",
        "    \"\"\"\n",
        "\n",
        "    json_body = ChatRequest(\n",
        "        user_id=user_id, # Your user_id, you will get it from the studio.\n",
        "        agent_id=agent_id,\n",
        "        message=user_request,\n",
        "    )\n",
        "\n",
        "    chat = client.chat_with_agent(json_body=json_body)\n",
        "    return chat['response']"
      ],
      "metadata": {
        "id": "JeWEZ4Idz4i8"
      },
      "execution_count": 10,
      "outputs": []
    },
    {
      "cell_type": "code",
      "source": [
        "# Example Usage\n",
        "user_id = 'user_id'\n",
        "env_id = create_env(env_name='CookBook Content Creation Envrionment')\n",
        "agent_id = create_agent(env_id=env_id, agent_name='CookBook Content Creation Agent')\n",
        "user_request = \"The benefits of using a content creation AI assistant.\"\n",
        "generated_content = generate_content(user_id=user_id,\n",
        "                                     agent_id=agent_id,\n",
        "                                     user_request= user_request,\n",
        "                                     content_format=\"blog post\")\n"
      ],
      "metadata": {
        "id": "K3UR_UUu05oT"
      },
      "execution_count": null,
      "outputs": []
    },
    {
      "cell_type": "markdown",
      "source": [
        "**Key Points and Further Enhancements:**\n",
        "\n",
        "- **Prompt Engineering:** Experiment with different prompts to guide the agent to generate specific content styles or tones. For example, you can ask for a \"formal\" article or a \"humorous\" social media post.\n",
        "- **Content Variety:** Expand the agent's capabilities by adding more content formats (e.g., scripts, poems, code in different programming languages) and integrating relevant tools.\n",
        "- **Iterative Content Refinement:**  Allow users to provide feedback on the generated content and have the agent refine it iteratively."
      ],
      "metadata": {
        "id": "Mx-LmENV1qJi"
      }
    },
    {
      "cell_type": "code",
      "source": [
        "print(f\"Generated Content:\\n{generated_content}\")"
      ],
      "metadata": {
        "id": "KGVzOBB51x6A"
      },
      "execution_count": null,
      "outputs": []
    }
  ]
}