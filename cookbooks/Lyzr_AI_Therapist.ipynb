{
  "cells": [
    {
      "cell_type": "markdown",
      "metadata": {
        "id": "WlNBN62Iw-xv"
      },
      "source": [
        "## Lyzr AI Therapist\n",
        "\n",
        "This notebook provides a detailed guide and fully documented code examples to build a AI therapist using the Lyzr Agent API.\n",
        "\n",
        "**1.  Installation of Lyzr Agent API**\n",
        "\n",
        "First install the lyzr-agent-api with the help of pip command.\n"
      ]
    },
    {
      "cell_type": "code",
      "execution_count": 32,
      "metadata": {
        "colab": {
          "base_uri": "https://localhost:8080/"
        },
        "collapsed": true,
        "id": "JbXjEa3_xAEP",
        "outputId": "75c48893-0e4a-4fc5-a9fc-081e5f924923"
      },
      "outputs": [
        {
          "name": "stdout",
          "output_type": "stream",
          "text": [
            "Requirement already satisfied: lyzr-agent-api in /usr/local/lib/python3.10/dist-packages (0.1.0)\n",
            "Requirement already satisfied: httpx==0.27.2 in /usr/local/lib/python3.10/dist-packages (from lyzr-agent-api) (0.27.2)\n",
            "Requirement already satisfied: anyio in /usr/local/lib/python3.10/dist-packages (from httpx==0.27.2->lyzr-agent-api) (3.7.1)\n",
            "Requirement already satisfied: certifi in /usr/local/lib/python3.10/dist-packages (from httpx==0.27.2->lyzr-agent-api) (2024.8.30)\n",
            "Requirement already satisfied: httpcore==1.* in /usr/local/lib/python3.10/dist-packages (from httpx==0.27.2->lyzr-agent-api) (1.0.5)\n",
            "Requirement already satisfied: idna in /usr/local/lib/python3.10/dist-packages (from httpx==0.27.2->lyzr-agent-api) (3.8)\n",
            "Requirement already satisfied: sniffio in /usr/local/lib/python3.10/dist-packages (from httpx==0.27.2->lyzr-agent-api) (1.3.1)\n",
            "Requirement already satisfied: h11<0.15,>=0.13 in /usr/local/lib/python3.10/dist-packages (from httpcore==1.*->httpx==0.27.2->lyzr-agent-api) (0.14.0)\n",
            "Requirement already satisfied: exceptiongroup in /usr/local/lib/python3.10/dist-packages (from anyio->httpx==0.27.2->lyzr-agent-api) (1.2.2)\n"
          ]
        }
      ],
      "source": [
        "!pip install lyzr-agent-api"
      ]
    },
    {
      "cell_type": "markdown",
      "metadata": {
        "id": "6iettEIxyefR"
      },
      "source": [
        "**2.  Setup and Initialization**\n",
        "\n",
        "Import the necessary library and initialize your Lyzr API client."
      ]
    },
    {
      "cell_type": "code",
      "execution_count": 33,
      "metadata": {
        "id": "9zNxmoXmw2lz"
      },
      "outputs": [],
      "source": [
        "from lyzr_agent_api import AgentAPI, AgentConfig\n",
        "from lyzr_agent_api import EnvironmentConfig, FeatureConfig\n",
        "from lyzr_agent_api import ChatRequest, OpenAPISchema"
      ]
    },
    {
      "cell_type": "code",
      "execution_count": 42,
      "metadata": {
        "id": "nSspY4vUyA97"
      },
      "outputs": [],
      "source": [
        "# X_API_KEY variable holds the Lyzr api key to authenticate the api requests, basically its a header token.\n",
        "\n",
        "X_API_Key = \"X_API_KEY\""
      ]
    },
    {
      "cell_type": "code",
      "execution_count": 35,
      "metadata": {
        "id": "Rc3jQ8ySyBJD"
      },
      "outputs": [],
      "source": [
        "# OPENAI_API_KEY variable have our openai api key\n",
        "\n",
        "OPENAI_API_KEY = \"OPENAI_API_KEY\""
      ]
    },
    {
      "cell_type": "code",
      "execution_count": 44,
      "metadata": {
        "colab": {
          "base_uri": "https://localhost:8080/"
        },
        "id": "WksA5Ne9yBTi",
        "outputId": "5ad08c3f-0f31-4f9c-d7cc-6eab11a78385"
      },
      "outputs": [
        {
          "name": "stdout",
          "output_type": "stream",
          "text": [
            "Client has been initialized successfully\n"
          ]
        }
      ],
      "source": [
        "# We need to initialize the client for AgentAPI.\n",
        "client = AgentAPI(\n",
        "    base_url=\"https://agent.api.lyzr.app\",\n",
        "    x_api_key=X_API_Key,\n",
        "    timeout=3600\n",
        ")\n",
        "\n",
        "print(\"Client has been initialized successfully\")"
      ]
    },
    {
      "cell_type": "markdown",
      "metadata": {
        "id": "z6HOKaI-yTQB"
      },
      "source": [
        "**3. Environment Creation**\n",
        "\n",
        "Set up the agent's environment. \n",
        "The `create_env` function creates a new environment with specified configurations such as features as a module it uses `LONG_TERM_MEMORY`, tools such as `perplexity_search`, and a large language model (LLM) as `gpt-4o-mini`. It takes an environment name and optional API key, makes an API call to set up the environment, and returns the newly created environment's ID."
      ]
    },
    {
      "cell_type": "code",
      "execution_count": 45,
      "metadata": {
        "colab": {
          "base_uri": "https://localhost:8080/"
        },
        "id": "8sR3xq-oyLKR",
        "outputId": "685559c0-56dc-4086-8cf1-24485a4a2302"
      },
      "outputs": [
        {
          "name": "stdout",
          "output_type": "stream",
          "text": [
            "Environment is configured with LONG_TERM_MEMORY Module, tool as perplexity_search and LLM Model as gpt-4o-mini from OpenAI.\n"
          ]
        }
      ],
      "source": [
        "# This function will create the environment based on the given configuration\n",
        "def create_env(env_name, openai_api_key=OPENAI_API_KEY):\n",
        "    env_config = EnvironmentConfig(\n",
        "        name=env_name,\n",
        "        features=[\n",
        "            FeatureConfig(\n",
        "                type=\"LONG_TERM_MEMORY\",\n",
        "                config={\"max_tries\": 3},\n",
        "                priority=0,\n",
        "            )\n",
        "        ],\n",
        "        tools=[\"perplexity_search\"],\n",
        "        llm_config={\"provider\": \"openai\",\n",
        "                    \"model\": \"gpt-4o-mini\",\n",
        "                    \"config\": {\n",
        "                        \"temperature\": 0.5,\n",
        "                        \"top_p\": 0.9\n",
        "                    },\n",
        "                    \"env\": {\n",
        "                        \"OPENAI_API_KEY\": openai_api_key\n",
        "                    }},\n",
        "    )\n",
        "\n",
        "    response = client.create_environment_endpoint(json_body=env_config)\n",
        "    if response:\n",
        "      print('Environment has been created successfully')\n",
        "      return response['env_id']\n",
        "\n",
        "print(\"Environment is configured with LONG_TERM_MEMORY Module, tool as perplexity_search and LLM Model as gpt-4o-mini from OpenAI.\")"
      ]
    },
    {
      "cell_type": "markdown",
      "metadata": {
        "id": "rDuXIxiYzFpi"
      },
      "source": [
        "**4. Agent Creation**\n",
        "\n",
        "Define the configuration for your Content Creation Agent, outlining its purpose and capabilities in the system prompt.\n",
        "\n",
        "The `create_ai_therapist_agent` function creates an agent in a specified environment by taking the environment ID. It configures the agent with a system prompt for AI Therapist and an agent description, then makes an API call to create the agent, returning the newly created agent's ID.\n"
      ]
    },
    {
      "cell_type": "code",
      "execution_count": 46,
      "metadata": {
        "colab": {
          "base_uri": "https://localhost:8080/"
        },
        "id": "6QdiM1tuzHfF",
        "outputId": "3fe953fb-1f2e-4b88-c75e-a893f103bf80"
      },
      "outputs": [
        {
          "name": "stdout",
          "output_type": "stream",
          "text": [
            "Agent will need an environment id to configured successfully.\n"
          ]
        }
      ],
      "source": [
        "# This function will help us create agent based on specific environment\n",
        "def create_ai_therapist_agent(env_id):\n",
        "    agent_config = AgentConfig(\n",
        "        env_id=env_id,\n",
        "        system_prompt=\"You are an empathetic and supportive AI therapist. You help users manage their emotions, offer advice, and provide mental health support through thoughtful conversation.\",\n",
        "        name=\"AI Therapist Agent\",\n",
        "        agent_description=\"Offers mental health support, listens to users, and provides therapeutic advice.\"\n",
        "    )\n",
        "    agent_response = client.create_agent_endpoint(json_body=agent_config)\n",
        "    return agent_response['agent_id']\n",
        "\n",
        "\n",
        "print(\"Agent will need an environment id to configured successfully.\")"
      ]
    },
    {
      "cell_type": "markdown",
      "metadata": {
        "id": "m_tRtC6mz6LI"
      },
      "source": [
        "**5. User Interaction and Content Generation**\n",
        "\n",
        "Create a function to handle user requests and provide reponses according to their concern.\n",
        "\n",
        "---\n",
        "\n"
      ]
    },
    {
      "cell_type": "code",
      "execution_count": 47,
      "metadata": {
        "id": "JeWEZ4Idz4i8"
      },
      "outputs": [],
      "source": [
        "def provide_therapy(user_id, agent_id, user_message):\n",
        "    \"\"\"Engages in a therapeutic conversation based on the user's message.\n",
        "\n",
        "    Args:\n",
        "        user_id (str): The user's ID.\n",
        "        agent_id (str): The AI Therapist agent's ID.\n",
        "        user_message (str): The user's message seeking therapy or advice.\n",
        "\n",
        "    Returns:\n",
        "        str: The AI Therapist's response.\n",
        "    \"\"\"\n",
        "\n",
        "    json_body = ChatRequest(\n",
        "        user_id=user_id,  # Your user_id, you will get it from the studio.\n",
        "        agent_id=agent_id,\n",
        "        message=user_message,\n",
        "    )\n",
        "\n",
        "    chat = client.chat_with_agent(json_body=json_body)\n",
        "    return chat['response']\n"
      ]
    },
    {
      "cell_type": "code",
      "execution_count": 53,
      "metadata": {
        "id": "K3UR_UUu05oT"
      },
      "outputs": [],
      "source": [
        "# Example Usage\n",
        "user_id = 'user_id'  # Replace with your actual user ID\n",
        "env_id = create_env(env_name='AI Therapist Environment')\n",
        "agent_id = create_ai_therapist_agent(env_id=env_id)\n",
        "user_message = \"I'm feeling stressed and anxious about my work. How can I manage these feelings?\"\n",
        "\n",
        "# Engaging in a therapeutic conversation\n",
        "therapist_response = provide_therapy(user_id=user_id,\n",
        "                                     agent_id=agent_id,\n",
        "                                     user_message=user_message)\n"
      ]
    },
    {
      "cell_type": "markdown",
      "metadata": {
        "id": "Mx-LmENV1qJi"
      },
      "source": [
        "Key Points and Further Enhancements for **AI Therapist**:\n",
        "\n",
        "- **Prompt Engineering**: Tailor prompts to elicit a specific therapeutic approach or response. For example, you could prompt the AI to offer \"mindfulness exercises\" or \"cognitive behavioral therapy techniques\" depending on the user’s needs.\n",
        "  \n",
        "- **Therapy Techniques**: Expand the agent's knowledge to cover a wider range of therapy techniques such as mindfulness, stress management, emotional regulation, or even offer supportive listening for mental well-being.\n",
        "\n",
        "- **Iterative Therapy Sessions**: Allow users to engage in continuous conversations, where they can provide feedback or updates, and the agent adapts by providing deeper insights or further therapeutic exercises.\n",
        "\n",
        "- **Personalization**: The agent could be enhanced to recognize patterns over time and personalize its responses based on previous interactions, providing a tailored therapeutic experience.\n",
        "\n",
        "- **Resource Suggestions**: Implement the capability to suggest helpful resources like articles, exercises, or helplines for more serious issues beyond what the agent can handle."
      ]
    },
    {
      "cell_type": "code",
      "execution_count": 54,
      "metadata": {
        "colab": {
          "base_uri": "https://localhost:8080/"
        },
        "id": "KGVzOBB51x6A",
        "outputId": "5633818c-3de7-422c-8f55-529b62c01cb6"
      },
      "outputs": [
        {
          "name": "stdout",
          "output_type": "stream",
          "text": [
            "It's completely understandable to feel stressed and anxious about work. Many people experience these feelings, especially when under pressure. It's important to acknowledge your emotions rather than push them aside.\n",
            "\n",
            "Can you share more about what specifically is causing you stress at work? Is it deadlines, workload, interpersonal relationships, or something else? This might help us explore some tailored strategies together. \n",
            "\n",
            "In the meantime, here are a few general techniques that might help:\n",
            "\n",
            "1. **Deep Breathing**: Take a moment to practice deep breathing exercises. Inhale deeply through your nose for a count of four, hold it for four, and then exhale slowly through your mouth for a count of four. This can help calm your nervous system.\n",
            "\n",
            "2. **Time Management**: Break your tasks into smaller, manageable parts and prioritize them. Sometimes, just knowing you have a plan can ease anxiety.\n",
            "\n",
            "3. **Mindfulness & Meditation**: Consider practicing mindfulness or short meditation sessions. This can help you stay grounded and reduce anxiety levels.\n",
            "\n",
            "4. **Physical Activity**: Exercise is a great stress reliever. Even a short walk can make a difference in your mood.\n",
            "\n",
            "5. **Talk It Out**: Discussing your feelings with trusted colleagues or friends can provide relief and help you gain perspective.\n",
            "\n",
            "Remember, it's important to take care of yourself during stressful times. What's one small step you could take today to help manage your feelings?\n"
          ]
        }
      ],
      "source": [
        "print(therapist_response)"
      ]
    }
  ],
  "metadata": {
    "colab": {
      "provenance": []
    },
    "kernelspec": {
      "display_name": "Python 3",
      "name": "python3"
    },
    "language_info": {
      "name": "python"
    }
  },
  "nbformat": 4,
  "nbformat_minor": 0
}
